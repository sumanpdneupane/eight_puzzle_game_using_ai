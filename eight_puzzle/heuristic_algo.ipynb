{
 "cells": [
  {
   "cell_type": "code",
   "execution_count": null,
   "metadata": {},
   "outputs": [],
   "source": [
    "# Heuristic Function\n",
    "# 1. Misplaced Tiles Heuristic: Fast but less accurate, only used for Simple problems\t\n",
    "# 2. Manhattan Distance Heuristic: Only straight moves allowed\n",
    "# 2. Euclidean Distance: If cost is truly based on distance (e.g., maps)\n",
    "# 3. Diagonal Distance: If diagonal moves are allowed, Path finding in games (e.g., Chess, Grid-based AI, Mazes)"
   ]
  },
  {
   "cell_type": "code",
   "execution_count": 1,
   "metadata": {},
   "outputs": [],
   "source": [
    "# Now you can import the desired function or class\n",
    "import import_ipynb\n",
    "import heapq\n",
    "import itertools\n",
    "import math\n",
    "import eight_puzzle_node as EightPuzzle"
   ]
  },
  {
   "cell_type": "code",
   "execution_count": 2,
   "metadata": {},
   "outputs": [],
   "source": [
    "class IDistance:\n",
    "    def calculate(self, puzzle: EightPuzzle.EightPuzzle): raise NotImplementedError"
   ]
  },
  {
   "cell_type": "code",
   "execution_count": 3,
   "metadata": {},
   "outputs": [],
   "source": [
    "# Misplaced Tiles Heuristic (h(n))\n",
    "class MisplacedTilesDistance(IDistance):\n",
    "    def __init__(self):\n",
    "        print(\"MisplacedTilesDistance\")\n",
    "        pass\n",
    "\n",
    "    def calculate(self, puzzle: EightPuzzle.EightPuzzle):\n",
    "        \"\"\"Heuristic: Count of misplaced tiles.\"\"\"\n",
    "        count = 0\n",
    "        state = puzzle.state\n",
    "        goal_state = puzzle.goal_state\n",
    "        \n",
    "        for x in range(0, len(state)):\n",
    "            for y in range(0, len(state[x])):\n",
    "                if state[x][y] != 0 and state[x][y] != goal_state[x][y]:\n",
    "                    count = count + 1\n",
    "        return count\n",
    "            \n",
    "            "
   ]
  },
  {
   "cell_type": "code",
   "execution_count": 4,
   "metadata": {},
   "outputs": [],
   "source": [
    "# Manhattan Distance Heuristic (h(n))\n",
    "class ManhattanDistance(IDistance): \n",
    "    def __init__(self):\n",
    "        print(\"ManhattanDistance\")\n",
    "        pass\n",
    "        \n",
    "    def __findPosition(self, value, goal_state):\n",
    "        for r in range(0, len(goal_state)):\n",
    "            for s in range(0, len(goal_state[r])):\n",
    "                if goal_state[r][s] == value:\n",
    "                    return r, s\n",
    "        \n",
    "    def calculate(self, puzzle: EightPuzzle.EightPuzzle):\n",
    "        \"\"\"Computes the Manhattan Distance heuristic.\"\"\"\n",
    "        distance = 0\n",
    "        \n",
    "        state = puzzle.state\n",
    "        goal_state = puzzle.goal_state\n",
    "        \n",
    "        for x in range(0, len(state)):\n",
    "            for y in range(0, len(state[x])):\n",
    "                value = state[x][y]\n",
    "                if value != 0: # Ignore empty tile\n",
    "                    goal_x, goal_y = self.__findPosition(value, goal_state)\n",
    "                    md = abs(x - goal_x) + abs(y - goal_y)\n",
    "                    distance = distance + md\n",
    "        return distance\n",
    "        "
   ]
  },
  {
   "cell_type": "code",
   "execution_count": 5,
   "metadata": {},
   "outputs": [],
   "source": [
    "# Euclidean Distance Heuristic (h(n))\n",
    "class EuclideanDistance(IDistance): \n",
    "    def __init__(self):\n",
    "        print(\"EuclideanDistance\")\n",
    "        pass\n",
    "    \n",
    "    def __findPosition(self, value, goal_state):\n",
    "        for r in range(0, len(goal_state)):\n",
    "            for s in range(0, len(goal_state[r])):\n",
    "                if goal_state[r][s] == value:\n",
    "                    return r, s\n",
    "        \n",
    "    def calculate(self, puzzle: EightPuzzle.EightPuzzle):\n",
    "        \"\"\"Computes the Manhattan Distance heuristic.\"\"\"\n",
    "        distance = 0\n",
    "        \n",
    "        state = puzzle.state\n",
    "        goal_state = puzzle.goal_state\n",
    "        \n",
    "        for x in range(0, len(state)):\n",
    "            for y in range(0, len(state[x])):\n",
    "                value = state[x][y]\n",
    "                if value != 0: # Ignore empty tile\n",
    "                    goal_x, goal_y = self.__findPosition(value, goal_state)\n",
    "                    v = abs(x - goal_x)/2 + abs(y - goal_y)/2\n",
    "                    ed = math.sqrt(v)\n",
    "                    distance = distance + ed\n",
    "        return distance"
   ]
  },
  {
   "cell_type": "code",
   "execution_count": 6,
   "metadata": {},
   "outputs": [],
   "source": [
    "# Diagonal Distance Heuristic (h(n))\n",
    "class DiagonalDistance(IDistance): \n",
    "    def __init__(self):\n",
    "        print(\"DiagonalDistance\")\n",
    "        pass\n",
    "    \n",
    "    def __findPosition(self, value, goal_state):\n",
    "        for r in range(0, len(goal_state)):\n",
    "            for s in range(0, len(goal_state[r])):\n",
    "                if goal_state[r][s] == value:\n",
    "                    return r, s\n",
    "        \n",
    "    def calculate(self, puzzle: EightPuzzle.EightPuzzle):\n",
    "        \"\"\"Computes the Manhattan Distance heuristic.\"\"\"\n",
    "        distance = 0\n",
    "        \n",
    "        state = puzzle.state\n",
    "        goal_state = puzzle.goal_state\n",
    "        \n",
    "        for x in range(0, len(state)):\n",
    "            for y in range(0, len(state[x])):\n",
    "                value = state[x][y]\n",
    "                if value != 0: # Ignore empty tile\n",
    "                    goal_x, goal_y = self.__findPosition(value, goal_state)\n",
    "                    dx = abs(x - goal_x)\n",
    "                    dy = abs(y - goal_y)\n",
    "                    d = 1\n",
    "                    d2 = math.sqrt(2)\n",
    "                    m = min(dx, dy)\n",
    "                    dd = d * (dx + dy) + (d2 - 2 * d) * m\n",
    "                    distance = distance + dd\n",
    "        return distance"
   ]
  }
 ],
 "metadata": {
  "kernelspec": {
   "display_name": "Python 3",
   "language": "python",
   "name": "python3"
  },
  "language_info": {
   "codemirror_mode": {
    "name": "ipython",
    "version": 3
   },
   "file_extension": ".py",
   "mimetype": "text/x-python",
   "name": "python",
   "nbconvert_exporter": "python",
   "pygments_lexer": "ipython3",
   "version": "3.13.2"
  }
 },
 "nbformat": 4,
 "nbformat_minor": 2
}
