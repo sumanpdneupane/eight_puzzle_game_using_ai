{
 "cells": [
  {
   "cell_type": "code",
   "execution_count": null,
   "metadata": {},
   "outputs": [],
   "source": [
    "# Heuristic Function\n",
    "# 1. Misplaced Tiles Heuristic: Fast but less accurate, only used for Simple problems\t\n",
    "# 2. Manhattan Distance Heuristic: Only straight moves allowed\n",
    "# 2. Euclidean Distance: If cost is truly based on distance (e.g., maps)\n",
    "# 3. Diagonal Distance: If diagonal moves are allowed, Path finding in games (e.g., Chess, Grid-based AI, Mazes)"
   ]
  },
  {
   "cell_type": "code",
   "execution_count": null,
   "metadata": {},
   "outputs": [],
   "source": [
    "# Now you can import the desired function or class\n",
    "import import_ipynb\n",
    "import heapq\n",
    "import itertools\n",
    "import math\n",
    "import eight_puzzle_node as EightPuzzle"
   ]
  },
  {
   "cell_type": "code",
   "execution_count": null,
   "metadata": {},
   "outputs": [],
   "source": [
    "class IDistance:\n",
    "    def calculate(self, puzzle: EightPuzzle.EightPuzzle): raise NotImplementedError"
   ]
  }
 ],
 "metadata": {
  "language_info": {
   "name": "python"
  }
 },
 "nbformat": 4,
 "nbformat_minor": 2
}
