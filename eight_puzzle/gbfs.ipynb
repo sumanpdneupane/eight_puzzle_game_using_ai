{
 "cells": [
  {
   "cell_type": "code",
   "execution_count": 1,
   "metadata": {},
   "outputs": [],
   "source": [
    "# Now you can import the desired function or class\n",
    "import import_ipynb\n",
    "import eight_puzzle_node as EightPuzzle"
   ]
  },
  {
   "cell_type": "code",
   "execution_count": null,
   "metadata": {},
   "outputs": [],
   "source": [
    "# Greedy Best first search\n",
    "# Greedy Best-First Search (GBFS) is an informed search algorithm that prioritizes nodes that seem closest to the goal, based solely on a heuristic function h(n).\n",
    "# Fast, memory-efficient\n",
    "# Can get stuck in loops, may not find optimal path\n",
    "# f(n)=h(n)\n",
    "# Where:\n",
    "# h(n) is the heuristic function, which estimates the cost from node n to the goal.\n",
    "# There is no cost function g(n) (cost from start to node n)—it ignores past costs and only looks forward.\n",
    "\n",
    "# In Greedy Best-First Search (GBFS), the heuristic function h(n) estimates how close a state is to the goal. \n",
    "# The algorithm always expands the node with the lowest h(n) value. \n",
    "# Unlike A*, GBFS ignores the cost from the start state (g(n)) and only focuses on moving towards the goal.\n",
    "\n",
    "# Heuristic Function\n",
    "# 1. Misplaced Tiles Heuristic\n",
    "# 2. Manhattan Distance Heuristic\n",
    "\n",
    "\n",
    "# 1. Misplaced Tiles Heuristic\n",
    "# Fast but less accurate, only used for Simple problems\t\n",
    "# h(n) = Number of misplaced tiles\n",
    "# Count the number of tiles not in their correct positions.\n",
    "\n",
    "\n",
    "# 2. Manhattan Distance Heuristic\n",
    "# Same written in A* search\n",
    "# More accurate, used for Complex puzzles"
   ]
  },
  {
   "cell_type": "code",
   "execution_count": null,
   "metadata": {},
   "outputs": [],
   "source": [
    "# Create Greedy Best first search\n",
    "class GreedyBestFirstSearch:\n",
    "    puzzle: EightPuzzle.EightPuzzle = None\n",
    "    \n",
    "    def __init__(self, puzzle: EightPuzzle.EightPuzzle):\n",
    "        self.puzzle = puzzle\n",
    "        print(\"GreedyBestFirstSearch\")\n",
    "        \n",
    "    def solve(self):\n",
    "        \"\"\"Performs Greedy Best-First Search (GBFS) to find the goal state.\"\"\"\n",
    "        visited = set()\n"
   ]
  }
 ],
 "metadata": {
  "kernelspec": {
   "display_name": "Python 3",
   "language": "python",
   "name": "python3"
  },
  "language_info": {
   "codemirror_mode": {
    "name": "ipython",
    "version": 3
   },
   "file_extension": ".py",
   "mimetype": "text/x-python",
   "name": "python",
   "nbconvert_exporter": "python",
   "pygments_lexer": "ipython3",
   "version": "3.13.2"
  }
 },
 "nbformat": 4,
 "nbformat_minor": 2
}
