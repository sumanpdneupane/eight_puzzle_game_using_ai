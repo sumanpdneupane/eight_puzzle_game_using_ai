{
 "cells": [
  {
   "cell_type": "code",
   "execution_count": 1,
   "metadata": {},
   "outputs": [],
   "source": [
    "# Now you can import the desired function or class\n",
    "import import_ipynb\n",
    "import eight_puzzle_node as EightPuzzle"
   ]
  },
  {
   "cell_type": "code",
   "execution_count": 2,
   "metadata": {},
   "outputs": [],
   "source": [
    "# Create DFS\n",
    "class DfsSearch:\n",
    "    puzzle: EightPuzzle.EightPuzzle = None\n",
    "    \n",
    "    def __init__(self, puzzle: EightPuzzle.EightPuzzle):\n",
    "        self.puzzle = puzzle\n",
    "        print(\"DfsSearch\")\n",
    "    \n",
    "    def solve(self):\n",
    "        \"\"\"Performs Depth-First Search (DFS) to find the goal state.\"\"\"\n",
    "        visited = set()\n",
    "        stack = [self.puzzle]\n",
    "        while stack:\n",
    "            current = stack.pop()\n",
    "            state_tuple = tuple(map(tuple, current.state))\n",
    "            \n",
    "            if state_tuple in visited:\n",
    "                continue\n",
    "            \n",
    "            visited.add(state_tuple)\n",
    "            current.display_state()\n",
    "            print(\"---------------\")\n",
    "            \n",
    "            if current.is_goal_reached():\n",
    "                print(\"Goal state reached!\")\n",
    "                return\n",
    "            \n",
    "            lists = current.get_possible_moves() \n",
    "            print(lists)           \n",
    "            for move in lists:\n",
    "                next_state = current.move(move)\n",
    "                if next_state:\n",
    "                    stack.append(next_state)"
   ]
  }
 ],
 "metadata": {
  "kernelspec": {
   "display_name": "Python 3",
   "language": "python",
   "name": "python3"
  },
  "language_info": {
   "codemirror_mode": {
    "name": "ipython",
    "version": 3
   },
   "file_extension": ".py",
   "mimetype": "text/x-python",
   "name": "python",
   "nbconvert_exporter": "python",
   "pygments_lexer": "ipython3",
   "version": "3.13.2"
  }
 },
 "nbformat": 4,
 "nbformat_minor": 2
}
