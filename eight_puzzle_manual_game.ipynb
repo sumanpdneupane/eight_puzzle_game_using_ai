{
 "cells": [
  {
   "cell_type": "code",
   "execution_count": 1,
   "metadata": {},
   "outputs": [],
   "source": [
    "# Given a 3×3 board with 8 tiles (each numbered from 1 to 8) and one empty space, the objective is to place the numbers to match the final \n",
    "# configuration using the empty space. We can slide four adjacent tiles (left, right, above, and below) into the empty space."
   ]
  },
  {
   "cell_type": "code",
   "execution_count": 2,
   "metadata": {},
   "outputs": [],
   "source": [
    "# Rules and Constraints:\n",
    "# To tackle the 8-puzzle, it's crucial to comprehend its rules and constraints:\n",
    "\n",
    "# 1. The 8-puzzle is typically played on a 3x3 grid, which provides a 3x3 square arrangement for tiles. This grid structure is fundamental to the problem's organization.\n",
    "# 2. The puzzle comprises 8 numbered tiles (usually from 1 to 8) and one blank tile. These numbered tiles can be slid into adjacent positions \n",
    "# (horizontally or vertically) when there's an available space, which is occupied by the blank tile.\n",
    "# 3. The objective of the 8-puzzle is to transform an initial state, defined by the arrangement of the tiles on the grid, into a specified goal state. The \n",
    "# goal state is often a predefined configuration, such as having the tiles arranged in ascending order from left to right and top to bottom, with the blank \n",
    "# tile in the bottom-right corner."
   ]
  },
  {
   "cell_type": "code",
   "execution_count": 3,
   "metadata": {},
   "outputs": [],
   "source": [
    "# The Challenge:\n",
    "# The primary challenge of the 8-puzzle problem lies in starting from a given initial state and finding a sequence of moves that leads to the goal state.\n",
    "\n",
    "# This challenge is multifaceted:\n",
    "# 1. The 8-puzzle has a vast number of possible states, making it essential to determine the most efficient sequence of moves.\n",
    "# 2. The need to consider many potential states demands efficient search algorithms and heuristic functions to guide the search process.\n",
    "# 3. The 8-puzzle serves as an essential problem-solving model, as many practical applications in AI, such as route planning and optimization, require similar \n",
    "# search techniques. Understanding and mastering the 8-puzzle problem is a stepping stone to addressing more complex real-world challenges."
   ]
  },
  {
   "cell_type": "code",
   "execution_count": 4,
   "metadata": {},
   "outputs": [],
   "source": [
    "# Initial State: Define the initial state (0 represents the blank tile)\n",
    "initial_state = [\n",
    "    [1, 2, 3],\n",
    "    [4, 5, 0],\n",
    "    [7, 8, 6]\n",
    "]"
   ]
  },
  {
   "cell_type": "code",
   "execution_count": 5,
   "metadata": {},
   "outputs": [],
   "source": [
    "goal_state = [\n",
    "    [1, 2, 3],\n",
    "    [4, 5, 6],\n",
    "    [7, 8 , 0]\n",
    "]"
   ]
  },
  {
   "cell_type": "code",
   "execution_count": 6,
   "metadata": {},
   "outputs": [],
   "source": [
    "from enum import Enum\n",
    "\n",
    "class Direction(Enum):\n",
    "    UP = \"up\"\n",
    "    DOWN = \"down\"\n",
    "    LEFT = \"left\"\n",
    "    RIGHT = \"right\""
   ]
  },
  {
   "cell_type": "code",
   "execution_count": 7,
   "metadata": {},
   "outputs": [],
   "source": [
    "# Create 8 puzzle node\n",
    "class EightPuzzle:\n",
    "    state = []\n",
    "    goal_state = []\n",
    "    blank_position: int = None\n",
    "    \n",
    "    def __init__(self, initial_state, goal_state):\n",
    "        self.state = initial_state # 2D list representing the board\n",
    "        self.goal_state = goal_state # 2D list representing the goals\n",
    "        self.blank_position = self.find_blank_position()\n",
    "        print(\"blank position is in: \", self.blank_position)\n",
    "        \n",
    "    def find_blank_position(self):\n",
    "        \"\"\"Find the position of the blank tile (0) in the state.\"\"\"\n",
    "        for i in range(0, len(self.state)):\n",
    "            for j in range(0, len(self.state[i])):\n",
    "                if(self.state[i][j] == 0):\n",
    "                    return (i, j)  # Return (row, column)\n",
    "                \n",
    "    def __display(self, state):\n",
    "        \"\"\"Prints the state of the puzzle.\"\"\"\n",
    "        for row in state:\n",
    "            result_string = \"\"\n",
    "            formatted_values = []\n",
    "            for num in row:\n",
    "                if num == 0:\n",
    "                    formatted_values.append(\"_\")\n",
    "                else:\n",
    "                    formatted_values.append(str(num))\n",
    "                result_string = \" \".join(formatted_values) \n",
    "            print(result_string)  \n",
    "            \n",
    "    def display_state(self):\n",
    "        \"\"\"Prints the current state of the puzzle.\"\"\"\n",
    "        self.__display(self.state)\n",
    "            \n",
    "    def display_goal(self):\n",
    "        \"\"\"Prints the goal state of the puzzle.\"\"\"\n",
    "        self.__display(goal_state)\n",
    "        \n",
    "    def is_goal_reached(self):\n",
    "        \"\"\"Checks if the current state matches the goal state.\"\"\"\n",
    "        return self.state == self.goal_state\n",
    "        \n",
    "    def get_possible_moves(self):\n",
    "        \"\"\"Returns a list of possible moves based on the blank tile position.\"\"\"\n",
    "        x, y = self.blank_position\n",
    "        possible_moves = []\n",
    "        \n",
    "        if x > 0:\n",
    "            possible_moves.append(Direction.UP)\n",
    "        if x < 2:\n",
    "            possible_moves.append(Direction.DOWN)\n",
    "        if y > 0:\n",
    "            possible_moves.append(Direction.LEFT)\n",
    "        if y < 2:\n",
    "            possible_moves.append(Direction.RIGHT)\n",
    "            \n",
    "        return possible_moves\n",
    "        \n",
    "    def move(self, direction: Direction): \n",
    "        \"\"\"Moves the blank tile in the specified direction if possible.\"\"\"\n",
    "        if direction not in self.get_possible_moves():\n",
    "            print(\"Move not possible!\")\n",
    "            return None\n",
    "        \n",
    "        i, j = self.blank_position\n",
    "        new_x, new_y = i, j\n",
    "        if direction == Direction.UP:\n",
    "            new_x = new_x - 1\n",
    "        elif direction == Direction.DOWN:\n",
    "            new_x = new_x + 1\n",
    "        elif direction == Direction.LEFT:\n",
    "            new_y = new_y - 1\n",
    "        elif direction == Direction.RIGHT:\n",
    "            new_y = new_y + 1\n",
    "        else:\n",
    "            print(\"Invalid move!\")\n",
    "            return None\n",
    "\n",
    "        if 0 <= new_x <= 2 and 0 <= new_y <= 2:\n",
    "            self.state[i][j], self.state[new_x][new_y] = self.state[new_x][new_y], self.state[i][j]\n",
    "            self.blank_position = (new_x, new_y)\n",
    "            self.display_state()\n",
    "            \n",
    "            if self.is_goal_reached():\n",
    "                print(\"Goal state reached!\")\n",
    "        else: \n",
    "            print(\"Move not possible!\")\n",
    "            \n",
    "        # Print next possible moves\n",
    "        print(\"Next possible moves:\", [move.value for move in self.get_possible_moves()])"
   ]
  },
  {
   "cell_type": "code",
   "execution_count": 8,
   "metadata": {},
   "outputs": [
    {
     "name": "stdout",
     "output_type": "stream",
     "text": [
      "blank position is in:  (1, 2)\n",
      "1 2 3\n",
      "4 5 _\n",
      "7 8 6\n",
      "None\n",
      "1 2 3\n",
      "4 5 6\n",
      "7 8 _\n",
      "None\n",
      "1 2 3\n",
      "4 5 6\n",
      "7 8 _\n",
      "Goal state reached!\n",
      "Next possible moves: ['up', 'left']\n"
     ]
    }
   ],
   "source": [
    "# Create an instance of EightPuzzle and display the initial state \n",
    "puzzle = EightPuzzle(initial_state= initial_state, goal_state= goal_state)\n",
    "print(puzzle.display_state())\n",
    "print(puzzle.display_goal())\n",
    "\n",
    "# Example moves\n",
    "puzzle.move(Direction.DOWN)\n",
    "# puzzle.move(Direction.LEFT)\n",
    "# puzzle.move(Direction.LEFT)\n"
   ]
  }
 ],
 "metadata": {
  "kernelspec": {
   "display_name": "Python 3",
   "language": "python",
   "name": "python3"
  },
  "language_info": {
   "codemirror_mode": {
    "name": "ipython",
    "version": 3
   },
   "file_extension": ".py",
   "mimetype": "text/x-python",
   "name": "python",
   "nbconvert_exporter": "python",
   "pygments_lexer": "ipython3",
   "version": "3.13.2"
  }
 },
 "nbformat": 4,
 "nbformat_minor": 2
}
